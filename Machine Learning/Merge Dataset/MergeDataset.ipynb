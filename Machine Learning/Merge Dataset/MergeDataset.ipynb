{
 "cells": [
  {
   "cell_type": "code",
   "execution_count": 1,
   "metadata": {},
   "outputs": [],
   "source": [
    "import pandas as pd"
   ]
  },
  {
   "cell_type": "code",
   "execution_count": 7,
   "metadata": {},
   "outputs": [],
   "source": [
    "df1 = pd.read_csv('dataset1.csv')"
   ]
  },
  {
   "cell_type": "code",
   "execution_count": 8,
   "metadata": {},
   "outputs": [
    {
     "data": {
      "text/html": "<div>\n<style scoped>\n    .dataframe tbody tr th:only-of-type {\n        vertical-align: middle;\n    }\n\n    .dataframe tbody tr th {\n        vertical-align: top;\n    }\n\n    .dataframe thead th {\n        text-align: right;\n    }\n</style>\n<table border=\"1\" class=\"dataframe\">\n  <thead>\n    <tr style=\"text-align: right;\">\n      <th></th>\n      <th>CustomerID</th>\n      <th>Gender</th>\n      <th>Age</th>\n      <th>Annual Income (k$)</th>\n      <th>Spending Score(1-100)</th>\n    </tr>\n  </thead>\n  <tbody>\n    <tr>\n      <th>0</th>\n      <td>1</td>\n      <td>Male</td>\n      <td>19</td>\n      <td>15</td>\n      <td>39</td>\n    </tr>\n    <tr>\n      <th>1</th>\n      <td>2</td>\n      <td>Male</td>\n      <td>21</td>\n      <td>15</td>\n      <td>81</td>\n    </tr>\n    <tr>\n      <th>2</th>\n      <td>3</td>\n      <td>Female</td>\n      <td>20</td>\n      <td>16</td>\n      <td>6</td>\n    </tr>\n    <tr>\n      <th>3</th>\n      <td>4</td>\n      <td>Female</td>\n      <td>23</td>\n      <td>16</td>\n      <td>77</td>\n    </tr>\n    <tr>\n      <th>4</th>\n      <td>5</td>\n      <td>Female</td>\n      <td>31</td>\n      <td>17</td>\n      <td>40</td>\n    </tr>\n    <tr>\n      <th>5</th>\n      <td>6</td>\n      <td>Female</td>\n      <td>22</td>\n      <td>17</td>\n      <td>76</td>\n    </tr>\n    <tr>\n      <th>6</th>\n      <td>7</td>\n      <td>Female</td>\n      <td>35</td>\n      <td>18</td>\n      <td>6</td>\n    </tr>\n    <tr>\n      <th>7</th>\n      <td>8</td>\n      <td>Female</td>\n      <td>23</td>\n      <td>18</td>\n      <td>94</td>\n    </tr>\n    <tr>\n      <th>8</th>\n      <td>9</td>\n      <td>Male</td>\n      <td>64</td>\n      <td>19</td>\n      <td>3</td>\n    </tr>\n    <tr>\n      <th>9</th>\n      <td>10</td>\n      <td>Female</td>\n      <td>30</td>\n      <td>19</td>\n      <td>72</td>\n    </tr>\n  </tbody>\n</table>\n</div>",
      "text/plain": "   CustomerID  Gender  Age  Annual Income (k$)  Spending Score(1-100)\n0           1    Male   19                  15                     39\n1           2    Male   21                  15                     81\n2           3  Female   20                  16                      6\n3           4  Female   23                  16                     77\n4           5  Female   31                  17                     40\n5           6  Female   22                  17                     76\n6           7  Female   35                  18                      6\n7           8  Female   23                  18                     94\n8           9    Male   64                  19                      3\n9          10  Female   30                  19                     72"
     },
     "execution_count": 8,
     "metadata": {},
     "output_type": "execute_result"
    }
   ],
   "source": [
    "df1"
   ]
  },
  {
   "cell_type": "code",
   "execution_count": 9,
   "metadata": {},
   "outputs": [],
   "source": [
    "df2 = pd.read_csv('dataset2.csv')"
   ]
  },
  {
   "cell_type": "code",
   "execution_count": 10,
   "metadata": {},
   "outputs": [
    {
     "data": {
      "text/html": "<div>\n<style scoped>\n    .dataframe tbody tr th:only-of-type {\n        vertical-align: middle;\n    }\n\n    .dataframe tbody tr th {\n        vertical-align: top;\n    }\n\n    .dataframe thead th {\n        text-align: right;\n    }\n</style>\n<table border=\"1\" class=\"dataframe\">\n  <thead>\n    <tr style=\"text-align: right;\">\n      <th></th>\n      <th>CustomerID</th>\n      <th>Area</th>\n    </tr>\n  </thead>\n  <tbody>\n    <tr>\n      <th>0</th>\n      <td>1</td>\n      <td>Dhaka</td>\n    </tr>\n    <tr>\n      <th>1</th>\n      <td>2</td>\n      <td>Rajshahi</td>\n    </tr>\n    <tr>\n      <th>2</th>\n      <td>3</td>\n      <td>Rangpur</td>\n    </tr>\n    <tr>\n      <th>3</th>\n      <td>4</td>\n      <td>Khulna</td>\n    </tr>\n    <tr>\n      <th>4</th>\n      <td>5</td>\n      <td>Dhaka</td>\n    </tr>\n    <tr>\n      <th>5</th>\n      <td>6</td>\n      <td>Khulna</td>\n    </tr>\n    <tr>\n      <th>6</th>\n      <td>7</td>\n      <td>Dhaka</td>\n    </tr>\n    <tr>\n      <th>7</th>\n      <td>8</td>\n      <td>Rangpur</td>\n    </tr>\n    <tr>\n      <th>8</th>\n      <td>9</td>\n      <td>Rangpur</td>\n    </tr>\n    <tr>\n      <th>9</th>\n      <td>10</td>\n      <td>Dhaka</td>\n    </tr>\n  </tbody>\n</table>\n</div>",
      "text/plain": "   CustomerID      Area\n0           1     Dhaka\n1           2  Rajshahi\n2           3   Rangpur\n3           4    Khulna\n4           5     Dhaka\n5           6    Khulna\n6           7     Dhaka\n7           8   Rangpur\n8           9   Rangpur\n9          10     Dhaka"
     },
     "execution_count": 10,
     "metadata": {},
     "output_type": "execute_result"
    }
   ],
   "source": [
    "df2"
   ]
  },
  {
   "cell_type": "markdown",
   "metadata": {},
   "source": [
    "# Merging Two Dataset"
   ]
  },
  {
   "cell_type": "code",
   "execution_count": 22,
   "metadata": {},
   "outputs": [],
   "source": [
    "df3 = pd.merge(df1,df2,on='CustomerID')"
   ]
  },
  {
   "cell_type": "code",
   "execution_count": 23,
   "metadata": {},
   "outputs": [
    {
     "data": {
      "text/html": "<div>\n<style scoped>\n    .dataframe tbody tr th:only-of-type {\n        vertical-align: middle;\n    }\n\n    .dataframe tbody tr th {\n        vertical-align: top;\n    }\n\n    .dataframe thead th {\n        text-align: right;\n    }\n</style>\n<table border=\"1\" class=\"dataframe\">\n  <thead>\n    <tr style=\"text-align: right;\">\n      <th></th>\n      <th>CustomerID</th>\n      <th>Gender</th>\n      <th>Age</th>\n      <th>Annual Income (k$)</th>\n      <th>Spending Score(1-100)</th>\n      <th>Area</th>\n    </tr>\n  </thead>\n  <tbody>\n    <tr>\n      <th>0</th>\n      <td>1</td>\n      <td>Male</td>\n      <td>19</td>\n      <td>15</td>\n      <td>39</td>\n      <td>Dhaka</td>\n    </tr>\n    <tr>\n      <th>1</th>\n      <td>2</td>\n      <td>Male</td>\n      <td>21</td>\n      <td>15</td>\n      <td>81</td>\n      <td>Rajshahi</td>\n    </tr>\n    <tr>\n      <th>2</th>\n      <td>3</td>\n      <td>Female</td>\n      <td>20</td>\n      <td>16</td>\n      <td>6</td>\n      <td>Rangpur</td>\n    </tr>\n    <tr>\n      <th>3</th>\n      <td>4</td>\n      <td>Female</td>\n      <td>23</td>\n      <td>16</td>\n      <td>77</td>\n      <td>Khulna</td>\n    </tr>\n    <tr>\n      <th>4</th>\n      <td>5</td>\n      <td>Female</td>\n      <td>31</td>\n      <td>17</td>\n      <td>40</td>\n      <td>Dhaka</td>\n    </tr>\n    <tr>\n      <th>5</th>\n      <td>6</td>\n      <td>Female</td>\n      <td>22</td>\n      <td>17</td>\n      <td>76</td>\n      <td>Khulna</td>\n    </tr>\n    <tr>\n      <th>6</th>\n      <td>7</td>\n      <td>Female</td>\n      <td>35</td>\n      <td>18</td>\n      <td>6</td>\n      <td>Dhaka</td>\n    </tr>\n    <tr>\n      <th>7</th>\n      <td>8</td>\n      <td>Female</td>\n      <td>23</td>\n      <td>18</td>\n      <td>94</td>\n      <td>Rangpur</td>\n    </tr>\n    <tr>\n      <th>8</th>\n      <td>9</td>\n      <td>Male</td>\n      <td>64</td>\n      <td>19</td>\n      <td>3</td>\n      <td>Rangpur</td>\n    </tr>\n    <tr>\n      <th>9</th>\n      <td>10</td>\n      <td>Female</td>\n      <td>30</td>\n      <td>19</td>\n      <td>72</td>\n      <td>Dhaka</td>\n    </tr>\n  </tbody>\n</table>\n</div>",
      "text/plain": "   CustomerID  Gender  Age  Annual Income (k$)  Spending Score(1-100)  \\\n0           1    Male   19                  15                     39   \n1           2    Male   21                  15                     81   \n2           3  Female   20                  16                      6   \n3           4  Female   23                  16                     77   \n4           5  Female   31                  17                     40   \n5           6  Female   22                  17                     76   \n6           7  Female   35                  18                      6   \n7           8  Female   23                  18                     94   \n8           9    Male   64                  19                      3   \n9          10  Female   30                  19                     72   \n\n       Area  \n0     Dhaka  \n1  Rajshahi  \n2   Rangpur  \n3    Khulna  \n4     Dhaka  \n5    Khulna  \n6     Dhaka  \n7   Rangpur  \n8   Rangpur  \n9     Dhaka  "
     },
     "execution_count": 23,
     "metadata": {},
     "output_type": "execute_result"
    }
   ],
   "source": [
    "df3"
   ]
  }
 ],
 "metadata": {
  "kernelspec": {
   "display_name": "Python 3.9.5 64-bit",
   "name": "python395jvsc74a57bd023300995598eec4bcf6bd89cf02d1c3675e8b2616661418dbbf5580aa901878d"
  },
  "language_info": {
   "codemirror_mode": {
    "name": "ipython",
    "version": 3
   },
   "file_extension": ".py",
   "mimetype": "text/x-python",
   "name": "python",
   "nbconvert_exporter": "python",
   "pygments_lexer": "ipython3",
   "version": "3.9.5"
  },
  "metadata": {
   "interpreter": {
    "hash": "23300995598eec4bcf6bd89cf02d1c3675e8b2616661418dbbf5580aa901878d"
   }
  },
  "orig_nbformat": 2
 },
 "nbformat": 4,
 "nbformat_minor": 2
}